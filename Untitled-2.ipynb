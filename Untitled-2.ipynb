{
 "cells": [
  {
   "cell_type": "markdown",
   "metadata": {},
   "source": [
    "# Import Required Libraries\n",
    "Import the necessary libraries, including pandas and matplotlib."
   ]
  },
  {
   "cell_type": "code",
   "execution_count": null,
   "metadata": {},
   "outputs": [],
   "source": [
    "# Import the necessary libraries\n",
    "import pandas as pd\n",
    "import matplotlib.pyplot as plt"
   ]
  },
  {
   "cell_type": "markdown",
   "metadata": {},
   "source": [
    "# Load the Dataset\n",
    "Load the dataset containing Grain_As_mean and Straw_As_mean values."
   ]
  },
  {
   "cell_type": "code",
   "execution_count": null,
   "metadata": {},
   "outputs": [],
   "source": [
    "# Load the Dataset\n",
    "df = pd.read_csv('path_to_your_dataset.csv')  # Replace with your actual file path\n",
    "\n",
    "# Display the first few rows of the dataset to verify loading\n",
    "df.head()"
   ]
  },
  {
   "cell_type": "markdown",
   "metadata": {},
   "source": [
    "# Inspect the Data\n",
    "Inspect the first few rows of the dataset to understand its structure."
   ]
  },
  {
   "cell_type": "code",
   "execution_count": null,
   "metadata": {},
   "outputs": [],
   "source": [
    "# Inspect the Data\n",
    "df.head()  # Display the first few rows of the dataset to understand its structure"
   ]
  },
  {
   "cell_type": "markdown",
   "metadata": {},
   "source": [
    "# Calculate Correlation\n",
    "Use pandas to calculate the correlation between Grain_As_mean and Straw_As_mean."
   ]
  },
  {
   "cell_type": "code",
   "execution_count": null,
   "metadata": {},
   "outputs": [],
   "source": [
    "# Calculate Correlation\n",
    "correlation = df['Grain_As_mean'].corr(df['Straw_As_mean'])\n",
    "\n",
    "# Display the correlation result\n",
    "print(f\"Correlation between Grain_As_mean and Straw_As_mean: {correlation}\")"
   ]
  },
  {
   "cell_type": "markdown",
   "metadata": {},
   "source": [
    "# Visualize the Correlation\n",
    "Use matplotlib to create a scatter plot visualizing the correlation."
   ]
  },
  {
   "cell_type": "code",
   "execution_count": null,
   "metadata": {},
   "outputs": [],
   "source": [
    "# Calculate Correlation\n",
    "correlation = df['Grain_As_mean'].corr(df['Straw_As_mean'])\n",
    "\n",
    "# Display the correlation result\n",
    "print(f\"Correlation between Grain_As_mean and Straw_As_mean: {correlation}\")\n",
    "\n",
    "# Visualize the Correlation\n",
    "plt.figure(figsize=(10, 6))\n",
    "plt.scatter(df['Grain_As_mean'], df['Straw_As_mean'], alpha=0.5)\n",
    "plt.title('Scatter Plot of Grain_As_mean vs Straw_As_mean')\n",
    "plt.xlabel('Grain_As_mean')\n",
    "plt.ylabel('Straw_As_mean')\n",
    "plt.grid(True)\n",
    "plt.show()"
   ]
  }
 ],
 "metadata": {
  "language_info": {
   "name": "python"
  }
 },
 "nbformat": 4,
 "nbformat_minor": 2
}
